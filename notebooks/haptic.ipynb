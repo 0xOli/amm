{
 "cells": [
  {
   "cell_type": "code",
   "execution_count": 18,
   "id": "5a3385cb-ce7a-47f2-9bab-20e28e77ced6",
   "metadata": {},
   "outputs": [
    {
     "name": "stdout",
     "output_type": "stream",
     "text": [
      "C=8.0 x=2 y=40000 P=20000 1/C=0.125\n"
     ]
    }
   ],
   "source": [
    "import swap\n",
    "# Let's say a BTC/USDC pool. \n",
    "\n",
    "C = 800/100\n",
    "x = 2 # BTC\n",
    "y = 40000 # USDC\n",
    "# P = y/x\n",
    "P = 20000\n",
    "\n",
    "print(f'{C=} {x=} {y=} {P=} {1/C=}')"
   ]
  },
  {
   "cell_type": "code",
   "execution_count": 20,
   "id": "29ebc907-8d42-400a-b2b3-77dc96bde26c",
   "metadata": {},
   "outputs": [
    {
     "data": {
      "text/plain": [
       "10000.0"
      ]
     },
     "execution_count": 20,
     "metadata": {},
     "output_type": "execute_result"
    }
   ],
   "source": [
    "V = (x*P + y) * 1/C\n",
    "V"
   ]
  },
  {
   "cell_type": "code",
   "execution_count": 40,
   "id": "811c89e3-1f9c-412a-a6d2-a459734b7e0a",
   "metadata": {},
   "outputs": [
    {
     "name": "stdout",
     "output_type": "stream",
     "text": [
      "k = 8000\n",
      "lp_supply = 89.44271909999159\n",
      "reserve0 = 2\n",
      "reserve1 = 4000\n",
      "total reserves = 4.0 token0 aka 8000.0 token1\n",
      "LPs = {'0xhapticprotocol': 89.44271909999159}\n",
      "1 token0 = 2000.0 vUSD\n",
      "1 token1 = 0.0005 ETH\n"
     ]
    }
   ],
   "source": [
    "s = swap.SimpleSwap(\"ETH\", \"vUSD\")\n",
    "s.mint(to=\"0xhapticprotocol\", amount0=2, amount1=4000)\n",
    "s.pprint()"
   ]
  },
  {
   "cell_type": "code",
   "execution_count": 41,
   "id": "de8653a3-72ff-4d3d-8bcf-ec42cc2fcfce",
   "metadata": {},
   "outputs": [
    {
     "data": {
      "text/plain": [
       "-1333.3333333333333"
      ]
     },
     "execution_count": 41,
     "metadata": {},
     "output_type": "execute_result"
    }
   ],
   "source": [
    "s.swap(1)"
   ]
  },
  {
   "cell_type": "code",
   "execution_count": 42,
   "id": "64396372-e6b1-41f6-b90b-3c77f961d560",
   "metadata": {},
   "outputs": [
    {
     "name": "stdout",
     "output_type": "stream",
     "text": [
      "k = 8000.000000000001\n",
      "lp_supply = 89.44271909999159\n",
      "reserve0 = 3\n",
      "reserve1 = 2666.666666666667\n",
      "total reserves = 6.0 token0 aka 5333.333333333334 token1\n",
      "LPs = {'0xhapticprotocol': 89.44271909999159}\n",
      "1 token0 = 888.888888888889 vUSD\n",
      "1 token1 = 0.001125 ETH\n"
     ]
    }
   ],
   "source": [
    "s.pprint()"
   ]
  },
  {
   "cell_type": "code",
   "execution_count": 44,
   "id": "faf55f65-7d05-459e-9287-2bd03b6881eb",
   "metadata": {},
   "outputs": [
    {
     "name": "stdout",
     "output_type": "stream",
     "text": [
      "k = 8000.000000000001\n",
      "lp_supply = 89.44271909999159\n",
      "reserve0 = 1\n",
      "reserve1 = 8000.000000000001\n",
      "total reserves = 2.0 token0 aka 16000.000000000002 token1\n",
      "LPs = {'0xhapticprotocol': 89.44271909999159}\n",
      "1 token0 = 8000.000000000001 vUSD\n",
      "1 token1 = 0.00012499999999999998 ETH\n"
     ]
    }
   ],
   "source": [
    "s.swap(-1)\n",
    "s.pprint()"
   ]
  },
  {
   "cell_type": "code",
   "execution_count": 48,
   "id": "50eba38f-e84b-407f-81d5-f97a7b070931",
   "metadata": {},
   "outputs": [],
   "source": [
    "# d(n)"
   ]
  },
  {
   "cell_type": "code",
   "execution_count": 47,
   "id": "2d798e6d-451e-4717-bc31-b1e46028f59d",
   "metadata": {},
   "outputs": [
    {
     "ename": "SyntaxError",
     "evalue": "invalid character '̸' (U+0338) (4095340074.py, line 1)",
     "output_type": "error",
     "traceback": [
      "\u001b[0;36m  Input \u001b[0;32mIn [47]\u001b[0;36m\u001b[0m\n\u001b[0;31m    d̸̟̓̑͌̐̇e̵̯̗͍̱̦̣̲͉͚͉̹͖̾͂́̈́̏̄̄̏̐̀̾͗́͘̚e̷̠͓̺͉̦̯̮̟̦͇̅̃̾̐͜͜z̸̛̝͔͕͉͕͛̃̂͛͑̉́̓̌̏͝ ̸̧̨̼̪̱̰̥͓͕̪͐́̍͂̒͒́͠͠n̶̯̘̹̽͒͛̇̑̓̈́̊ų̵̟̘͎̯͑̆̔̎ͅẗ̴̨̘̭͕̞̱̲̖͎̬͓̰́ͅz̶̢̦̼̼̺̭̉́̕\u001b[0m\n\u001b[0m                                                                               ^\u001b[0m\n\u001b[0;31mSyntaxError\u001b[0m\u001b[0;31m:\u001b[0m invalid character '̸' (U+0338)\n"
     ]
    }
   ],
   "source": [
    "d̸̟̓̑͌̐̇e̵̯̗͍̱̦̣̲͉͚͉̹͖̾͂́̈́̏̄̄̏̐̀̾͗́͘̚e̷̠͓̺͉̦̯̮̟̦͇̅̃̾̐͜͜z̸̛̝͔͕͉͕͛̃̂͛͑̉́̓̌̏͝ ̸̧̨̼̪̱̰̥͓͕̪͐́̍͂̒͒́͠͠n̶̯̘̹̽͒͛̇̑̓̈́̊ų̵̟̘͎̯͑̆̔̎ͅẗ̴̨̘̭͕̞̱̲̖͎̬͓̰́ͅz̶̢̦̼̼̺̭̉́̕"
   ]
  },
  {
   "cell_type": "code",
   "execution_count": null,
   "id": "e59e74bc-cbcc-4d89-917c-5358a85a6b2a",
   "metadata": {},
   "outputs": [],
   "source": []
  }
 ],
 "metadata": {
  "kernelspec": {
   "display_name": "Python 3 (ipykernel)",
   "language": "python",
   "name": "python3"
  },
  "language_info": {
   "codemirror_mode": {
    "name": "ipython",
    "version": 3
   },
   "file_extension": ".py",
   "mimetype": "text/x-python",
   "name": "python",
   "nbconvert_exporter": "python",
   "pygments_lexer": "ipython3",
   "version": "3.9.13"
  }
 },
 "nbformat": 4,
 "nbformat_minor": 5
}
