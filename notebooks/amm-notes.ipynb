{
 "cells": [
  {
   "cell_type": "code",
   "execution_count": 2,
   "id": "8c0a4c83-3ffe-4d39-b7c0-1c1ba17f3c09",
   "metadata": {},
   "outputs": [],
   "source": [
    "# Constant product\n",
    "# x * y = k\n",
    "# x = k / y\n",
    "# y = k / x"
   ]
  },
  {
   "cell_type": "code",
   "execution_count": null,
   "id": "f56113f1-dae7-40b1-9283-c997789d7de4",
   "metadata": {},
   "outputs": [],
   "source": [
    "import numpy as np\n",
    "import matplotlib.pyplot as plt\n",
    "# import scipy.stats as stats\n",
    "\n",
    "k = 1000\n",
    "xs = np.linspace(start=0, stop=1000)\n",
    "ys = [k/x for x in x]\n",
    "plt.plot(xs, ys)\n",
    "plt.show()"
   ]
  }
 ],
 "metadata": {
  "kernelspec": {
   "display_name": "Python 3 (ipykernel)",
   "language": "python",
   "name": "python3"
  },
  "language_info": {
   "codemirror_mode": {
    "name": "ipython",
    "version": 3
   },
   "file_extension": ".py",
   "mimetype": "text/x-python",
   "name": "python",
   "nbconvert_exporter": "python",
   "pygments_lexer": "ipython3",
   "version": "3.9.13"
  }
 },
 "nbformat": 4,
 "nbformat_minor": 5
}
