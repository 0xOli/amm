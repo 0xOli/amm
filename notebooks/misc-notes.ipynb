{
 "cells": [
  {
   "cell_type": "markdown",
   "id": "c2cd1773-4cf1-4d93-b83d-e6d1596d78f5",
   "metadata": {},
   "source": [
    "# Impermanent loss notes"
   ]
  },
  {
   "cell_type": "code",
   "execution_count": 1,
   "id": "ab0a60c7-6328-451b-8bba-db50833cd038",
   "metadata": {},
   "outputs": [],
   "source": [
    "# Simplified swap without fees\n",
    "import math\n",
    "\n",
    "# LIQUIDITY\n",
    "# given some amount of an asset and pair reserves, returns an equivalent amount of the other asset\n",
    "# used when adding liquidity\n",
    "def quote(amountA, reserveA, reserveB):\n",
    "    assert(amountA > 0)\n",
    "    assert(reserveA > 0 and reserveB > 0)\n",
    "    amountB = (amountA * reserveB) / reserveA\n",
    "    return amountB\n",
    "\n",
    "# SWAP\n",
    "# simplified version of above\n",
    "def get_amount_delta(amount0_delta, reserve0, reserve1):\n",
    "    dx = amount0_delta\n",
    "    x = reserve0\n",
    "    y = reserve1\n",
    "    return (-dx*y)/(x+dx)\n",
    "\n",
    "# Simple ERC20 token\n",
    "class SimpleToken:\n",
    "    def __init__(self):\n",
    "        self.balance_of = {}\n",
    "        self.total_supply = 0\n",
    "    def _mint(self, to, value):\n",
    "        self.total_supply += value\n",
    "        self.balance_of[to] = self.balance_of.get(to, 0) + value\n",
    "    def _burn(self, from_, value):\n",
    "        self.total_supply -= value\n",
    "        self.balance_of[from_] = self.balance_of.get(from_, 0) - value\n",
    "    \n",
    "class SimpleSwap(SimpleToken):\n",
    "    def __init__(self):\n",
    "        super().__init__();\n",
    "        self.reserve0 = 0\n",
    "        self.reserve1 = 0\n",
    "    def k(self):\n",
    "        return self.reserve0 * self.reserve1\n",
    "    def liquidity(self):\n",
    "        return math.sqrt(self.k())\n",
    "    \n",
    "    def mint(self, to, amount0 = None, amount1 = None):\n",
    "        assert(not (amount0 is None and amount1 is None));\n",
    "        if amount0 is None:\n",
    "            amount0 = quote(amount1, self.reserve1, self.reserve0)\n",
    "        if amount1 is None:\n",
    "            amount1 = quote(amount0, self.reserve0, self.reserve1)\n",
    "            \n",
    "        if self.total_supply == 0:\n",
    "            # first mint\n",
    "            liquidity = math.sqrt(amount0 * amount1)\n",
    "            # omitted min. liquidity code for simplicity\n",
    "        else :\n",
    "            l1 = amount0/self.reserve0 * self.total_supply\n",
    "            l2 = amount1/self.reserve1 * self.total_supply\n",
    "            # ensures that amounts are added in same proportion otherwise the smallest percent wins?\n",
    "            liquidity = Math.min(l1, l2)\n",
    "        self.reserve0 += amount0\n",
    "        self.reserve1 += amount1\n",
    "        self._mint(to, liquidity)\n",
    "        \n",
    "    def swap(self, amount0_delta):\n",
    "        # balance represented token reserve after a successful swap\n",
    "        amount1_delta = get_amount_delta(amount0_delta, self.reserve0, self.reserve1)\n",
    "        reserve0_new = self.reserve0 + amount0_delta\n",
    "        reserve1_new = self.reserve1 + amount1_delta\n",
    "        assert (reserve0_new * reserve1_new == self.k()), 'k invariant is not preserved'\n",
    "        self.reserve0 = reserve0_new\n",
    "        self.reserve1 = reserve1_new\n",
    "    # Price of 1 token0 in token1\n",
    "    def price0(self):\n",
    "        return self.reserve1/self.reserve0\n",
    "    # Price of 1 token1 in token0\n",
    "    def price1(self):\n",
    "        return self.reserve0/self.reserve1\n",
    "    def reserves_priced_in_token0(self):\n",
    "        return self.reserve0 + self.reserve1 * self.price1();\n",
    "    def reserves_priced_in_token1(self):\n",
    "        return self.reserve1 + self.reserve0 * self.price0();\n",
    "    def pprint(self):\n",
    "        print(\"k = {}\".format(self.k()))\n",
    "        print(\"lp_supply = {}\".format(self.total_supply))\n",
    "        print(\"reserve0 = {}\".format(self.reserve0))\n",
    "        print(\"reserve1 = {}\".format(self.reserve1))\n",
    "        print(\"total reserves = {} token0 aka {} token1\".format(\n",
    "            self.reserves_priced_in_token0(),\n",
    "            self.reserves_priced_in_token1())\n",
    "        )\n",
    "        print(\"LPs = {}\".format(self.balance_of))\n",
    "        print(\"1 token0 = {} token1\".format(self.price0()))\n",
    "        print(\"1 token1 = {} token0\".format(self.price1()))\n",
    "    "
   ]
  },
  {
   "cell_type": "code",
   "execution_count": 2,
   "id": "52e3f052-0859-4567-ac00-25df3d9d94b4",
   "metadata": {},
   "outputs": [
    {
     "name": "stdout",
     "output_type": "stream",
     "text": [
      "k = 20000000\n",
      "lp_supply = 4472.13595499958\n",
      "reserve0 = 1000\n",
      "reserve1 = 20000\n",
      "total reserves = 2000.0 token0 aka 40000.0 token1\n",
      "LPs = {'0xbob': 4472.13595499958}\n",
      "1 token0 = 20.0 token1\n",
      "1 token1 = 0.05 token0\n"
     ]
    }
   ],
   "source": [
    "swap = SimpleSwap()\n",
    "swap.mint(\"0xbob\", 1000, 20000)\n",
    "swap.pprint()"
   ]
  },
  {
   "cell_type": "code",
   "execution_count": 3,
   "id": "a4b67f07-5d7b-456f-b0c0-36ab80b3462e",
   "metadata": {},
   "outputs": [
    {
     "name": "stdout",
     "output_type": "stream",
     "text": [
      "k = 20000000.0\n",
      "lp_supply = 4472.13595499958\n",
      "reserve0 = 1100\n",
      "reserve1 = 18181.81818181818\n",
      "total reserves = 2200.0 token0 aka 36363.63636363636 token1\n",
      "LPs = {'0xbob': 4472.13595499958}\n",
      "1 token0 = 16.52892561983471 token1\n",
      "1 token1 = 0.060500000000000005 token0\n"
     ]
    }
   ],
   "source": [
    "swap.swap(100)\n",
    "swap.pprint()"
   ]
  },
  {
   "cell_type": "code",
   "execution_count": 4,
   "id": "7680a194-2636-4c07-8e85-191b16621289",
   "metadata": {},
   "outputs": [
    {
     "name": "stdout",
     "output_type": "stream",
     "text": [
      "k = 20000000.0\n",
      "lp_supply = 4472.13595499958\n",
      "reserve0 = 1000\n",
      "reserve1 = 20000.0\n",
      "total reserves = 2000.0 token0 aka 40000.0 token1\n",
      "LPs = {'0xbob': 4472.13595499958}\n",
      "1 token0 = 20.0 token1\n",
      "1 token1 = 0.05 token0\n"
     ]
    }
   ],
   "source": [
    "swap.swap(-100)\n",
    "swap.pprint()"
   ]
  },
  {
   "cell_type": "code",
   "execution_count": 5,
   "id": "ffb2cd4f-2a4e-43bd-b45e-8ab54641df92",
   "metadata": {},
   "outputs": [
    {
     "data": {
      "text/plain": [
       "100.29712033915393"
      ]
     },
     "execution_count": 5,
     "metadata": {},
     "output_type": "execute_result"
    }
   ],
   "source": [
    "def delta_x_for_price_x(desired_price_x, reserve0, reserve1):\n",
    "    p = desired_price_x\n",
    "    x = reserve0\n",
    "    y = reserve1\n",
    "    dx = math.sqrt(x*y/p) - x\n",
    "    return dx\n",
    "delta_x_for_price_x(16.52, 1000, 20000)"
   ]
  },
  {
   "cell_type": "code",
   "execution_count": 6,
   "id": "087feb35-7cea-4cb8-ae4f-545008b5e499",
   "metadata": {},
   "outputs": [
    {
     "name": "stdout",
     "output_type": "stream",
     "text": [
      "2222.222222222222\n",
      "2222.222222222222\n"
     ]
    }
   ],
   "source": [
    " def get_amount_in(amount_out, reserve_in, reserve_out):\n",
    "    numerator = reserve_in * amount_out\n",
    "    denominator = reserve_out - amount_out\n",
    "    amount_in = (numerator / denominator)\n",
    "    return amount_in\n",
    "\n",
    "print(get_amount_delta(-100, 1000, 20000))\n",
    "print(get_amount_in(100, 20000, 1000))"
   ]
  },
  {
   "cell_type": "code",
   "execution_count": 7,
   "id": "7d64441f-2b41-43be-8da8-8741cd47ebdf",
   "metadata": {},
   "outputs": [
    {
     "name": "stdout",
     "output_type": "stream",
     "text": [
      "k = 20000\n",
      "lp_supply = 141.4213562373095\n",
      "reserve0 = 100\n",
      "reserve1 = 200\n",
      "total reserves = 200.0 token0 aka 400.0 token1\n",
      "LPs = {'0xbob': 141.4213562373095}\n",
      "1 token0 = 2.0 token1\n",
      "1 token1 = 0.5 token0\n"
     ]
    }
   ],
   "source": [
    "s = SimpleSwap()\n",
    "s.mint(\"0xbob\", 100, 200)\n",
    "s.pprint()"
   ]
  },
  {
   "cell_type": "code",
   "execution_count": 8,
   "id": "02b64779-8c69-4c07-a528-a5ca197b5d9b",
   "metadata": {},
   "outputs": [
    {
     "data": {
      "text/plain": [
       "41.42135623730951"
      ]
     },
     "execution_count": 8,
     "metadata": {},
     "output_type": "execute_result"
    }
   ],
   "source": [
    "delta_x = delta_x_for_price_x(1, s.reserve0, s.reserve1)\n",
    "delta_x"
   ]
  },
  {
   "cell_type": "code",
   "execution_count": 9,
   "id": "c0c08ad2-e088-426c-8a60-4a1b51eb062e",
   "metadata": {},
   "outputs": [
    {
     "name": "stdout",
     "output_type": "stream",
     "text": [
      "k = 20000.0\n",
      "lp_supply = 141.4213562373095\n",
      "reserve0 = 141.4213562373095\n",
      "reserve1 = 141.4213562373095\n",
      "total reserves = 282.842712474619 token0 aka 282.842712474619 token1\n",
      "LPs = {'0xbob': 141.4213562373095}\n",
      "1 token0 = 1.0 token1\n",
      "1 token1 = 1.0 token0\n"
     ]
    }
   ],
   "source": [
    "s.swap(delta_x)\n",
    "s.pprint()"
   ]
  },
  {
   "cell_type": "code",
   "execution_count": 10,
   "id": "934b74a9-4993-4bea-bdb5-a599650fc7d3",
   "metadata": {},
   "outputs": [
    {
     "name": "stdout",
     "output_type": "stream",
     "text": [
      "k = 20000\n",
      "lp_supply = 141.4213562373095\n",
      "reserve0 = 100\n",
      "reserve1 = 200\n",
      "total reserves = 200.0 token0 aka 400.0 token1\n",
      "LPs = {'0xbob': 141.4213562373095}\n",
      "1 token0 = 2.0 token1\n",
      "1 token1 = 0.5 token0\n"
     ]
    }
   ],
   "source": [
    "s2 = SimpleSwap()\n",
    "s2.mint(\"0xbob\", 100, 200)\n",
    "s2.pprint()"
   ]
  },
  {
   "cell_type": "code",
   "execution_count": 11,
   "id": "0e6e1419-8631-4a61-8bb3-875f200c9d90",
   "metadata": {},
   "outputs": [
    {
     "name": "stdout",
     "output_type": "stream",
     "text": [
      "k = 20000.0\n",
      "lp_supply = 141.4213562373095\n",
      "reserve0 = 70.71067811865476\n",
      "reserve1 = 282.842712474619\n",
      "total reserves = 141.4213562373095 token0 aka 565.685424949238 token1\n",
      "LPs = {'0xbob': 141.4213562373095}\n",
      "1 token0 = 4.0 token1\n",
      "1 token1 = 0.25 token0\n"
     ]
    }
   ],
   "source": [
    "s2.swap(delta_x_for_price_x(4, s2.reserve0, s2.reserve1))\n",
    "s2.pprint()"
   ]
  },
  {
   "cell_type": "code",
   "execution_count": 12,
   "id": "ab6d4b3a-b4b9-409b-8c96-2304e471465f",
   "metadata": {},
   "outputs": [
    {
     "data": {
      "text/plain": [
       "600"
      ]
     },
     "execution_count": 12,
     "metadata": {},
     "output_type": "execute_result"
    }
   ],
   "source": [
    "hodl = 100 * 4 + 200 # in token1\n",
    "hodl"
   ]
  },
  {
   "cell_type": "code",
   "execution_count": 13,
   "id": "9b6bb100-2caa-4cb8-99fb-0b252d3008da",
   "metadata": {},
   "outputs": [
    {
     "data": {
      "text/plain": [
       "565.685424949238"
      ]
     },
     "execution_count": 13,
     "metadata": {},
     "output_type": "execute_result"
    }
   ],
   "source": [
    "lp = s2.reserve0 * 4 + s2.reserve1 # token1\n",
    "lp"
   ]
  },
  {
   "cell_type": "code",
   "execution_count": 14,
   "id": "0baf732b-057c-4e0f-a579-b2be5f84e2fa",
   "metadata": {},
   "outputs": [
    {
     "data": {
      "text/plain": [
       "150.0"
      ]
     },
     "execution_count": 14,
     "metadata": {},
     "output_type": "execute_result"
    }
   ],
   "source": [
    "hodl = 100 + 200 * 0.25 # in token0\n",
    "hodl"
   ]
  },
  {
   "cell_type": "code",
   "execution_count": 15,
   "id": "50f485f0-ab7c-44f6-9d0b-ccd40020489c",
   "metadata": {},
   "outputs": [
    {
     "data": {
      "text/plain": [
       "141.4213562373095"
      ]
     },
     "execution_count": 15,
     "metadata": {},
     "output_type": "execute_result"
    }
   ],
   "source": [
    "lp = s2.reserve0 + s2.reserve1 * 0.25 # in token0\n",
    "lp"
   ]
  },
  {
   "cell_type": "code",
   "execution_count": 16,
   "id": "e5073243-c423-42e4-b80c-141a9fc092e3",
   "metadata": {},
   "outputs": [
    {
     "name": "stdout",
     "output_type": "stream",
     "text": [
      "k = 20000\n",
      "lp_supply = 141.4213562373095\n",
      "reserve0 = 100\n",
      "reserve1 = 200\n",
      "total reserves = 200.0 token0 aka 400.0 token1\n",
      "LPs = {'0xbob': 141.4213562373095}\n",
      "1 token0 = 2.0 token1\n",
      "1 token1 = 0.5 token0\n"
     ]
    }
   ],
   "source": [
    "s3 = SimpleSwap()\n",
    "s3.mint(\"0xbob\", 100, 200)\n",
    "s3.pprint()"
   ]
  },
  {
   "cell_type": "code",
   "execution_count": 17,
   "id": "395f8f85-c4fa-4f9a-83cd-d49c68898655",
   "metadata": {},
   "outputs": [
    {
     "name": "stdout",
     "output_type": "stream",
     "text": [
      "15.47005383792515\n",
      "k = 20000.0\n",
      "lp_supply = 141.4213562373095\n",
      "reserve0 = 115.47005383792515\n",
      "reserve1 = 173.20508075688772\n",
      "total reserves = 230.9401076758503 token0 aka 346.41016151377545 token1\n",
      "LPs = {'0xbob': 141.4213562373095}\n",
      "1 token0 = 1.5 token1\n",
      "1 token1 = 0.6666666666666666 token0\n"
     ]
    }
   ],
   "source": [
    "dx = delta_x_for_price_x(1.5, s3.reserve0, s3.reserve1)\n",
    "print(dx)\n",
    "s3.swap(dx)\n",
    "s3.pprint()"
   ]
  },
  {
   "cell_type": "code",
   "execution_count": 18,
   "id": "1755213b-8020-4326-b9fc-f719eb0fc892",
   "metadata": {},
   "outputs": [
    {
     "data": {
      "text/plain": [
       "350.0"
      ]
     },
     "execution_count": 18,
     "metadata": {},
     "output_type": "execute_result"
    }
   ],
   "source": [
    "hodl = 100 * 1.5 + 200 # token1\n",
    "hodl"
   ]
  },
  {
   "cell_type": "code",
   "execution_count": 19,
   "id": "be5f534c-413c-4f0b-a7ee-9fc28e8b5808",
   "metadata": {},
   "outputs": [
    {
     "data": {
      "text/plain": [
       "346.41016151377545"
      ]
     },
     "execution_count": 19,
     "metadata": {},
     "output_type": "execute_result"
    }
   ],
   "source": [
    "lp = s3.reserve0 * 1.5 + s3.reserve1 # token1\n",
    "lp"
   ]
  }
 ],
 "metadata": {
  "kernelspec": {
   "display_name": "Python 3 (ipykernel)",
   "language": "python",
   "name": "python3"
  },
  "language_info": {
   "codemirror_mode": {
    "name": "ipython",
    "version": 3
   },
   "file_extension": ".py",
   "mimetype": "text/x-python",
   "name": "python",
   "nbconvert_exporter": "python",
   "pygments_lexer": "ipython3",
   "version": "3.9.13"
  }
 },
 "nbformat": 4,
 "nbformat_minor": 5
}
