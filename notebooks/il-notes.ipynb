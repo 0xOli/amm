{
 "cells": [
  {
   "cell_type": "markdown",
   "id": "c2cd1773-4cf1-4d93-b83d-e6d1596d78f5",
   "metadata": {},
   "source": [
    "# Impermanent loss notes"
   ]
  },
  {
   "cell_type": "code",
   "execution_count": 1,
   "id": "ab0a60c7-6328-451b-8bba-db50833cd038",
   "metadata": {},
   "outputs": [],
   "source": [
    "# Simplified swap without fees\n",
    "import math\n",
    "\n",
    "# LIQUIDITY\n",
    "# given some amount of an asset and pair reserves, returns an equivalent amount of the other asset\n",
    "# used when adding liquidity\n",
    "def quote(amountA, reserveA, reserveB):\n",
    "    assert(amountA > 0)\n",
    "    assert(reserveA > 0 and reserveB > 0)\n",
    "    amountB = (amountA * reserveB) / reserveA\n",
    "    return amountB\n",
    "\n",
    "# SWAP\n",
    "# simplified version of above\n",
    "def get_amount_delta(amount0_delta, reserve0, reserve1):\n",
    "    dx = amount0_delta\n",
    "    x = reserve0\n",
    "    y = reserve1\n",
    "    return (-dx*y)/(x+dx)\n",
    "\n",
    "# Simple ERC20 token\n",
    "class SimpleToken:\n",
    "    def __init__(self):\n",
    "        self.balance_of = {}\n",
    "        self.total_supply = 0\n",
    "    def _mint(self, to, value):\n",
    "        self.total_supply += value\n",
    "        self.balance_of[to] = self.balance_of.get(to, 0) + value\n",
    "    def _burn(self, from_, value):\n",
    "        self.total_supply -= value\n",
    "        self.balance_of[from_] = self.balance_of.get(from_, 0) - value\n",
    "    \n",
    "class SimpleSwap(SimpleToken):\n",
    "    def __init__(self):\n",
    "        super().__init__();\n",
    "        self.reserve0 = 0\n",
    "        self.reserve1 = 0\n",
    "    def k(self):\n",
    "        return self.reserve0 * self.reserve1\n",
    "    def liquidity(self):\n",
    "        return math.sqrt(self.k())\n",
    "    \n",
    "    def mint(self, to, amount0 = None, amount1 = None):\n",
    "        assert(not (amount0 is None and amount1 is None));\n",
    "        if amount0 is None:\n",
    "            amount0 = quote(amount1, self.reserve1, self.reserve0)\n",
    "        if amount1 is None:\n",
    "            amount1 = quote(amount0, self.reserve0, self.reserve1)\n",
    "            \n",
    "        if self.total_supply == 0:\n",
    "            # first mint\n",
    "            liquidity = math.sqrt(amount0 * amount1)\n",
    "            # omitted min. liquidity code for simplicity\n",
    "        else :\n",
    "            l1 = amount0/self.reserve0 * self.total_supply\n",
    "            l2 = amount1/self.reserve1 * self.total_supply\n",
    "            # ensures that amounts are added in same proportion otherwise the smallest percent wins?\n",
    "            liquidity = Math.min(l1, l2)\n",
    "        self.reserve0 += amount0\n",
    "        self.reserve1 += amount1\n",
    "        self._mint(to, liquidity)\n",
    "        \n",
    "    def swap(self, amount0_delta):\n",
    "        # balance represented token reserve after a successful swap\n",
    "        amount1_delta = get_amount_delta(amount0_delta, self.reserve0, self.reserve1)\n",
    "        reserve0_new = self.reserve0 + amount0_delta\n",
    "        reserve1_new = self.reserve1 + amount1_delta\n",
    "        assert (reserve0_new * reserve1_new == self.k()), 'k invariant is not preserved'\n",
    "        self.reserve0 = reserve0_new\n",
    "        self.reserve1 = reserve1_new\n",
    "    def price0(self):\n",
    "        return self.reserve1/self.reserve0\n",
    "    def price1(self):\n",
    "        return self.reserve0/self.reserve1\n",
    "    def pprint(self):\n",
    "        print(\"k = {}\".format(self.k()))\n",
    "        print(\"lp_supply = {}\".format(self.total_supply))\n",
    "        print(\"reserve0 = {}\".format(self.reserve0))\n",
    "        print(\"reserve1 = {}\".format(self.reserve1))\n",
    "        print(\"LPs = {}\".format(self.balance_of))\n",
    "        print(\"1 token0 = {} token1\".format(self.price0()))\n",
    "        print(\"1 token1 = {} token0\".format(self.price1()))\n",
    "    "
   ]
  },
  {
   "cell_type": "code",
   "execution_count": 2,
   "id": "52e3f052-0859-4567-ac00-25df3d9d94b4",
   "metadata": {},
   "outputs": [
    {
     "name": "stdout",
     "output_type": "stream",
     "text": [
      "k = 20000000\n",
      "lp_supply = 4472.13595499958\n",
      "reserve0 = 1000\n",
      "reserve1 = 20000\n",
      "LPs = {'0xbob': 4472.13595499958}\n",
      "1 token0 = 20.0 token1\n",
      "1 token1 = 0.05 token0\n"
     ]
    }
   ],
   "source": [
    "swap = SimpleSwap()\n",
    "swap.mint(\"0xbob\", 1000, 20000)\n",
    "swap.pprint()"
   ]
  },
  {
   "cell_type": "code",
   "execution_count": 3,
   "id": "a4b67f07-5d7b-456f-b0c0-36ab80b3462e",
   "metadata": {},
   "outputs": [
    {
     "name": "stdout",
     "output_type": "stream",
     "text": [
      "k = 20000000.0\n",
      "lp_supply = 4472.13595499958\n",
      "reserve0 = 1100\n",
      "reserve1 = 18181.81818181818\n",
      "LPs = {'0xbob': 4472.13595499958}\n",
      "1 token0 = 16.52892561983471 token1\n",
      "1 token1 = 0.060500000000000005 token0\n"
     ]
    }
   ],
   "source": [
    "swap.swap(100)\n",
    "swap.pprint()"
   ]
  },
  {
   "cell_type": "code",
   "execution_count": 4,
   "id": "7680a194-2636-4c07-8e85-191b16621289",
   "metadata": {},
   "outputs": [
    {
     "name": "stdout",
     "output_type": "stream",
     "text": [
      "k = 20000000.0\n",
      "lp_supply = 4472.13595499958\n",
      "reserve0 = 1000\n",
      "reserve1 = 20000.0\n",
      "LPs = {'0xbob': 4472.13595499958}\n",
      "1 token0 = 20.0 token1\n",
      "1 token1 = 0.05 token0\n"
     ]
    }
   ],
   "source": [
    "swap.swap(-100)\n",
    "swap.pprint()"
   ]
  },
  {
   "cell_type": "code",
   "execution_count": 5,
   "id": "ffb2cd4f-2a4e-43bd-b45e-8ab54641df92",
   "metadata": {},
   "outputs": [
    {
     "data": {
      "text/plain": [
       "17176.908428002822"
      ]
     },
     "execution_count": 5,
     "metadata": {},
     "output_type": "execute_result"
    }
   ],
   "source": [
    "def delta_x_for_price_x(desired_price_x, reserve0, reserve1):\n",
    "    p = desired_price_x\n",
    "    x = reserve0\n",
    "    y = reserve1\n",
    "    dx = math.sqrt(p*x*y) - x\n",
    "    return dx\n",
    "delta_x_for_price_x(16.52, 1000, 20000)"
   ]
  }
 ],
 "metadata": {
  "kernelspec": {
   "display_name": "Python 3 (ipykernel)",
   "language": "python",
   "name": "python3"
  },
  "language_info": {
   "codemirror_mode": {
    "name": "ipython",
    "version": 3
   },
   "file_extension": ".py",
   "mimetype": "text/x-python",
   "name": "python",
   "nbconvert_exporter": "python",
   "pygments_lexer": "ipython3",
   "version": "3.9.13"
  }
 },
 "nbformat": 4,
 "nbformat_minor": 5
}
