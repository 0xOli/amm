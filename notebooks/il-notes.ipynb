{
 "cells": [
  {
   "cell_type": "markdown",
   "id": "c2cd1773-4cf1-4d93-b83d-e6d1596d78f5",
   "metadata": {},
   "source": [
    "# Impermanent loss notes"
   ]
  },
  {
   "cell_type": "code",
   "execution_count": 1,
   "id": "ab0a60c7-6328-451b-8bba-db50833cd038",
   "metadata": {},
   "outputs": [],
   "source": [
    "# Simplified swap without fees\n",
    "import math\n",
    "\n",
    "# given some amount of an asset and pair reserves, returns an equivalent amount of the other asset\n",
    "# used when adding liquidity\n",
    "def quote(amountA, reserveA, reserveB):\n",
    "    assert(amountA > 0)\n",
    "    assert(reserveA > 0 and reserveB > 0)\n",
    "    amountB = (amountA * reserveB) / reserveA\n",
    "    return amountB\n",
    "\n",
    "# Simple ERC20 token\n",
    "class SimpleToken:\n",
    "    def __init__(self):\n",
    "        self.balance_of = {}\n",
    "        self.total_supply = 0\n",
    "    def _mint(self, to, value):\n",
    "        self.total_supply += value\n",
    "        self.balance_of[to] = self.balance_of.get(to, 0) + value\n",
    "    def _burn(self, from_, value):\n",
    "        self.total_supply -= value\n",
    "        self.balance_of[from_] = self.balance_of.get(from_, 0) - value\n",
    "    \n",
    "class SimpleSwap(SimpleToken):\n",
    "    def __init__(self):\n",
    "        super().__init__();\n",
    "        self.reserve0 = 0\n",
    "        self.reserve1 = 0\n",
    "    def k(self):\n",
    "        return self.reserve0 * self.reserve1\n",
    "    def liquidity(self):\n",
    "        return math.sqrt(self.k())\n",
    "    \n",
    "    def mint(self, to, amount0 = None, amount1 = None):\n",
    "        assert(not (amount0 is None and amount1 is None));\n",
    "        if amount0 is None:\n",
    "            amount0 = quote(amount1, self.reserve1, self.reserve0)\n",
    "        if amount1 is None:\n",
    "            amount1 = quote(amount0, self.reserve0, self.reserve1)\n",
    "            \n",
    "        if self.total_supply == 0:\n",
    "            # first mint\n",
    "            liquidity = math.sqrt(amount0 * amount1)\n",
    "            # omitted min. liquidity code for simplicity\n",
    "        else :\n",
    "            l1 = amount0/self.reserve0 * self.total_supply\n",
    "            l2 = amount1/self.reserve1 * self.total_supply\n",
    "            # ensures that amounts are added in same proportion otherwise the smallest percent wins?\n",
    "            liquidity = Math.min(l1, l2)\n",
    "        self.reserve0 += amount0\n",
    "        self.reserve1 += amount1\n",
    "        self._mint(to, liquidity)\n",
    "        \n",
    "    def pprint(self):\n",
    "        print(\"k = {}\".format(self.k()))\n",
    "        print(\"lp_supply = {}\".format(self.total_supply))\n",
    "        print(\"reserve0 = {}\".format(self.reserve0))\n",
    "        print(\"reserve1 = {}\".format(self.reserve1))\n",
    "        print(\"LPs = {}\".format(self.balance_of))\n",
    "    "
   ]
  },
  {
   "cell_type": "code",
   "execution_count": 2,
   "id": "52e3f052-0859-4567-ac00-25df3d9d94b4",
   "metadata": {},
   "outputs": [
    {
     "name": "stdout",
     "output_type": "stream",
     "text": [
      "k = 200\n",
      "lp_supply = 14.142135623730951\n",
      "reserve0 = 10\n",
      "reserve1 = 20\n",
      "LPs = {'0xbob': 14.142135623730951}\n"
     ]
    }
   ],
   "source": [
    "swap = SimpleSwap()\n",
    "swap.mint(\"0xbob\", 10, 20)\n",
    "swap.pprint()"
   ]
  }
 ],
 "metadata": {
  "kernelspec": {
   "display_name": "Python 3 (ipykernel)",
   "language": "python",
   "name": "python3"
  },
  "language_info": {
   "codemirror_mode": {
    "name": "ipython",
    "version": 3
   },
   "file_extension": ".py",
   "mimetype": "text/x-python",
   "name": "python",
   "nbconvert_exporter": "python",
   "pygments_lexer": "ipython3",
   "version": "3.9.13"
  }
 },
 "nbformat": 4,
 "nbformat_minor": 5
}
