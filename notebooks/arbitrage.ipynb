{
 "cells": [
  {
   "cell_type": "code",
   "execution_count": 1,
   "id": "b46e9fd2-789c-48a1-bb3b-ab0d49a643e9",
   "metadata": {},
   "outputs": [],
   "source": [
    "import swap\n",
    "s = swap.SimpleSwap()"
   ]
  },
  {
   "cell_type": "code",
   "execution_count": 2,
   "id": "d47c244c-fcb7-42cc-902a-4c871b067573",
   "metadata": {},
   "outputs": [
    {
     "name": "stdout",
     "output_type": "stream",
     "text": [
      "k = 200000\n",
      "lp_supply = 447.21359549995793\n",
      "reserve0 = 10\n",
      "reserve1 = 20000\n",
      "total reserves = 20.0 token0 aka 40000.0 token1\n",
      "LPs = {'0xbob': 447.21359549995793}\n",
      "1 token0 = 2000.0 token1\n",
      "1 token1 = 0.0005 token0\n"
     ]
    }
   ],
   "source": [
    "s.mint(\"0xbob\", 10, 20000)\n",
    "s.pprint()"
   ]
  },
  {
   "cell_type": "code",
   "execution_count": 3,
   "id": "146d8309-b5f4-4baa-aa4c-2fe699cdac6c",
   "metadata": {},
   "outputs": [
    {
     "data": {
      "text/plain": [
       "-1818.1818181818182"
      ]
     },
     "execution_count": 3,
     "metadata": {},
     "output_type": "execute_result"
    }
   ],
   "source": [
    "# alice sells 1 token0 for 1818 token1\n",
    "r = s.swap(1)\n",
    "r"
   ]
  },
  {
   "cell_type": "code",
   "execution_count": 4,
   "id": "a6e8546b-cda6-4265-b298-c787f3b1a82b",
   "metadata": {},
   "outputs": [
    {
     "name": "stdout",
     "output_type": "stream",
     "text": [
      "k = 199999.99999999997\n",
      "lp_supply = 447.21359549995793\n",
      "reserve0 = 11\n",
      "reserve1 = 18181.81818181818\n",
      "total reserves = 22.0 token0 aka 36363.63636363636 token1\n",
      "LPs = {'0xbob': 447.21359549995793}\n",
      "1 token0 = 1652.8925619834708 token1\n",
      "1 token1 = 0.0006050000000000001 token0\n"
     ]
    }
   ],
   "source": [
    "s.pprint()"
   ]
  },
  {
   "cell_type": "code",
   "execution_count": null,
   "id": "433b3003-a270-4de7-896c-561951cf0419",
   "metadata": {},
   "outputs": [],
   "source": []
  }
 ],
 "metadata": {
  "kernelspec": {
   "display_name": "Python 3 (ipykernel)",
   "language": "python",
   "name": "python3"
  },
  "language_info": {
   "codemirror_mode": {
    "name": "ipython",
    "version": 3
   },
   "file_extension": ".py",
   "mimetype": "text/x-python",
   "name": "python",
   "nbconvert_exporter": "python",
   "pygments_lexer": "ipython3",
   "version": "3.9.13"
  }
 },
 "nbformat": 4,
 "nbformat_minor": 5
}
